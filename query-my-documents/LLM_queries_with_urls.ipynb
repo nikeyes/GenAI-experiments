{
  "nbformat": 4,
  "nbformat_minor": 0,
  "metadata": {
    "colab": {
      "provenance": [],
      "include_colab_link": true
    },
    "kernelspec": {
      "name": "python3",
      "display_name": "Python 3"
    },
    "language_info": {
      "name": "python"
    }
  },
  "cells": [
    {
      "cell_type": "markdown",
      "metadata": {
        "id": "view-in-github",
        "colab_type": "text"
      },
      "source": [
        "<a href=\"https://colab.research.google.com/github/nikeyes/GenAI-experiments/blob/main/query-my-documents/LLM_queries_with_urls.ipynb\" target=\"_parent\"><img src=\"https://colab.research.google.com/assets/colab-badge.svg\" alt=\"Open In Colab\"/></a>"
      ]
    },
    {
      "cell_type": "code",
      "execution_count": null,
      "metadata": {
        "id": "8wcIKrYN6kv3"
      },
      "outputs": [],
      "source": [
        "!pip install langchain\n",
        "!pip install huggingface_hub\n",
        "!pip install sentence_transformers\n",
        "!pip install faiss-cpu\n",
        "!pip install unstructured\n",
        "!pip install chromadb\n",
        "!pip install Cython\n",
        "!pip install tiktoken\n",
        "!pip install unstructured[local-inference]\n",
        "# To avoid ImportError: cannot import name 'is_directory' from 'PIL._util' (/usr/local/lib/python3.10/dist-packages/PIL/_util.py)\n",
        "!pip install --upgrade pillow"
      ]
    },
    {
      "cell_type": "code",
      "source": [
        "import os\n",
        "import requests\n",
        "from configparser import ConfigParser\n",
        "parser = ConfigParser()\n",
        "_ = parser.read('config.ini')\n",
        "os.environ[\"HUGGINGFACEHUB_API_TOKEN\"] = parser.get('HuggingFace','ACCESS_TOKEN')"
      ],
      "metadata": {
        "id": "8cd4qiGd_Ngn"
      },
      "execution_count": null,
      "outputs": []
    },
    {
      "cell_type": "code",
      "source": [
        "from langchain.document_loaders import UnstructuredURLLoader\n",
        "urls = [\n",
        "    \"https://nikeyes.github.io/Principios-de-un-Open-Space-y-viajar-con-ni%C3%B1os-en-coche/\",\n",
        "    \"https://nikeyes.github.io/cuando-cambiar-de-trabajo/\"\n",
        "]\n",
        "loader = [UnstructuredURLLoader(urls=urls)]\n",
        "#loader\n",
        "doc = loader[0].load()\n"
      ],
      "metadata": {
        "id": "J3VPz_X56rzZ"
      },
      "execution_count": null,
      "outputs": []
    },
    {
      "cell_type": "code",
      "source": [
        "from langchain.document_loaders import UnstructuredPDFLoader\n",
        "from langchain.indexes import VectorstoreIndexCreator\n",
        "from langchain.embeddings import HuggingFaceEmbeddings\n",
        "from langchain.text_splitter import CharacterTextSplitter\n",
        "\n",
        "index = VectorstoreIndexCreator(\n",
        "    embedding=HuggingFaceEmbeddings(),\n",
        "    text_splitter=CharacterTextSplitter(chunk_size=1000, chunk_overlap=10)).from_loaders(loader)\n",
        "\n",
        "retriever=index.vectorstore.as_retriever()"
      ],
      "metadata": {
        "id": "rVJrALAm60NW"
      },
      "execution_count": null,
      "outputs": []
    },
    {
      "cell_type": "code",
      "source": [
        "# Text Splitter\n",
        "from langchain.text_splitter import CharacterTextSplitter\n",
        "text_splitter = CharacterTextSplitter(chunk_size=1000, chunk_overlap=10)\n",
        "docs = text_splitter.split_documents(doc)\n",
        "# Embeddings\n",
        "from langchain.embeddings import HuggingFaceEmbeddings\n",
        "embeddings = HuggingFaceEmbeddings()#Create the vectorized db\n",
        "# Vectorstore: https://python.langchain.com/en/latest/modules/indexes/vectorstores.html\n",
        "from langchain.vectorstores import FAISS\n",
        "index = FAISS.from_documents(docs, embeddings)\n",
        "\n",
        "retriever = index.as_retriever(search_kwargs={\"k\":3})"
      ],
      "metadata": {
        "id": "SFv-TWHjuCpg"
      },
      "execution_count": null,
      "outputs": []
    },
    {
      "cell_type": "code",
      "source": [
        "query = \"Explícame la ley de los 2 pies con niños.\"\n",
        "#docs = index.similarity_search(query)\n",
        "docs = index..search(query)\n",
        "docs"
      ],
      "metadata": {
        "id": "trxFBqYWK3FK"
      },
      "execution_count": null,
      "outputs": []
    },
    {
      "cell_type": "code",
      "source": [
        "from langchain import HuggingFaceHub\n",
        "\n",
        "llm=HuggingFaceHub(repo_id=\"declare-lab/flan-alpaca-large\", model_kwargs={\"temperature\":0, \"max_length\":512})\n",
        "#llm=HuggingFaceHub(repo_id=\"google/flan-t5-xxl\", model_kwargs={\"temperature\":0.1, \"max_length\":512})\n",
        "#llm=HuggingFaceHub(repo_id=\"mosaicml/mpt-7b\", model_kwargs={\"temperature\":0.1, \"max_length\":512})\n"
      ],
      "metadata": {
        "id": "0SN4PsO07FlG"
      },
      "execution_count": null,
      "outputs": []
    },
    {
      "cell_type": "code",
      "source": [
        "from langchain.chains import RetrievalQA\n",
        "chain = RetrievalQA.from_chain_type(llm=llm, \n",
        "                                    chain_type=\"stuff\", \n",
        "                                    retriever=retriever, \n",
        "                                    input_key=\"question\",\n",
        "                                    return_source_documents=True)"
      ],
      "metadata": {
        "id": "_rV4LD_J7IwE"
      },
      "execution_count": null,
      "outputs": []
    },
    {
      "cell_type": "code",
      "source": [
        "\n"
      ],
      "metadata": {
        "id": "jc0dIsz97QFl"
      },
      "execution_count": null,
      "outputs": []
    },
    {
      "cell_type": "code",
      "source": [
        "\n",
        "#chain.run('Explícame la ley de los 2 pies con niños.')\n",
        "chain('Explícame la ley de los 2 pies con niños.')"
      ],
      "metadata": {
        "id": "PJaCoO0Bbw8R"
      },
      "execution_count": null,
      "outputs": []
    },
    {
      "cell_type": "code",
      "source": [
        "ques = input('Your question: ')\n",
        "chain.run(ques)"
      ],
      "metadata": {
        "id": "6y7_FCGY7SAk"
      },
      "execution_count": null,
      "outputs": []
    },
    {
      "cell_type": "code",
      "source": [],
      "metadata": {
        "id": "K5YPIMlabsMM"
      },
      "execution_count": null,
      "outputs": []
    }
  ]
}