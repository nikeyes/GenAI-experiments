{
  "nbformat": 4,
  "nbformat_minor": 0,
  "metadata": {
    "colab": {
      "provenance": [],
      "authorship_tag": "ABX9TyPNXFmMRkBv/T5BrtEuZvi9",
      "include_colab_link": true
    },
    "kernelspec": {
      "name": "python3",
      "display_name": "Python 3"
    },
    "language_info": {
      "name": "python"
    }
  },
  "cells": [
    {
      "cell_type": "markdown",
      "metadata": {
        "id": "view-in-github",
        "colab_type": "text"
      },
      "source": [
        "<a href=\"https://colab.research.google.com/github/nikeyes/GenAI-experiments/blob/main/query-my-documents/ChatGPT-with-my-own-information.ipynb\" target=\"_parent\"><img src=\"https://colab.research.google.com/assets/colab-badge.svg\" alt=\"Open In Colab\"/></a>"
      ]
    },
    {
      "cell_type": "code",
      "execution_count": null,
      "metadata": {
        "id": "DEKmL6HWieQI"
      },
      "outputs": [],
      "source": [
        "%pip install llama-index"
      ]
    },
    {
      "cell_type": "code",
      "source": [
        "import os\n",
        "from configparser import ConfigParser\n",
        "\n",
        "parser = ConfigParser()\n",
        "_ = parser.read('config.ini')\n",
        "os.environ[\"OPENAI_API_KEY\"] = parser.get('OpenAI','API_KEY')"
      ],
      "metadata": {
        "id": "XCnjV7CTnv26"
      },
      "execution_count": null,
      "outputs": []
    },
    {
      "cell_type": "markdown",
      "source": [
        "# Parseamos el PDF a modo de ejemplo. \n"
      ],
      "metadata": {
        "id": "sBIACBk9YdUS"
      }
    },
    {
      "cell_type": "markdown",
      "source": [
        "## Si fuera un caso real usáriamos librerias más complejas que usen OCR para leer texto en imágenes, que sepan segmentar el documento .... \n",
        "Algo como LangChain con unstructured_file : https://python.langchain.com/en/latest/modules/indexes/document_loaders/examples/unstructured_file.html"
      ],
      "metadata": {
        "id": "xNvDtr7VYz7f"
      }
    },
    {
      "cell_type": "code",
      "source": [
        "from pathlib import Path\n",
        "from llama_index import download_loader\n",
        "\n",
        "PDFReader = download_loader(\"PDFReader\")\n",
        "\n",
        "loader = PDFReader()\n",
        "#documents = loader.load_data(file=Path('./Adevinta-Q4-2022-Quarterly-report.pdf'))\n",
        "documents = loader.load_data(file=Path('./Adevinta-Annual-Report-2022.pdf'))"
      ],
      "metadata": {
        "id": "AKlarYyOk6l_"
      },
      "execution_count": null,
      "outputs": []
    },
    {
      "cell_type": "code",
      "source": [
        "#documents[0].get_text().find('Adevinta ASA’s Board of Directors')\n",
        "documents[0].get_text().find('Tonnes of carbon') -1\n",
        "#documents[0].get_text()"
      ],
      "metadata": {
        "id": "0-C1OnrrUbQ9",
        "colab": {
          "base_uri": "https://localhost:8080/"
        },
        "outputId": "f3b8df17-5a08-4e9d-d774-eb08a1fb8b39"
      },
      "execution_count": null,
      "outputs": [
        {
          "output_type": "execute_result",
          "data": {
            "text/plain": [
              "80323"
            ]
          },
          "metadata": {},
          "execution_count": 6
        }
      ]
    },
    {
      "cell_type": "markdown",
      "source": [
        "# Generamos el índice de Embedings y lo guardamos para no volver a pagar la API de Embedings"
      ],
      "metadata": {
        "id": "HplLSacduVvd"
      }
    },
    {
      "cell_type": "code",
      "source": [
        "from llama_index import GPTVectorStoreIndex\n",
        "\n",
        "index = GPTVectorStoreIndex.from_documents(documents)\n",
        "\n",
        "index.storage_context.persist(persist_dir=\"data_annual\")"
      ],
      "metadata": {
        "id": "Y4M_FWi4k2_j"
      },
      "execution_count": null,
      "outputs": []
    },
    {
      "cell_type": "markdown",
      "source": [
        "# Cargamos el índice desde local"
      ],
      "metadata": {
        "id": "t4hlbihHuOhs"
      }
    },
    {
      "cell_type": "code",
      "source": [
        "from llama_index import StorageContext, load_index_from_storage\n",
        "\n",
        "# rebuild storage context\n",
        "storage_context = StorageContext.from_defaults(persist_dir=\"data_annual\")\n",
        "\n",
        "# load index\n",
        "index = load_index_from_storage(storage_context)"
      ],
      "metadata": {
        "id": "h6jASllvuaH-"
      },
      "execution_count": null,
      "outputs": []
    },
    {
      "cell_type": "markdown",
      "source": [
        "# Consultamos a ChatGPT sobre nuestro documento Adevinta-Annual-Report-2022.pdf"
      ],
      "metadata": {
        "id": "Aa7ahNVhumOw"
      }
    },
    {
      "cell_type": "code",
      "source": [
        "query_engine = index.as_query_engine()\n",
        "response = query_engine.query(\"What is the total revenue of Adevinta in 2022?\")\n",
        "print(response)"
      ],
      "metadata": {
        "colab": {
          "base_uri": "https://localhost:8080/"
        },
        "id": "O1oC5gaCNcRT",
        "outputId": "bc7ed125-7267-4ec6-c778-1ec89dd4c0d8"
      },
      "execution_count": null,
      "outputs": [
        {
          "output_type": "stream",
          "name": "stdout",
          "text": [
            "\n",
            "€1,644 million\n"
          ]
        }
      ]
    },
    {
      "cell_type": "code",
      "source": [
        "query_engine = index.as_query_engine()\n",
        "response = query_engine.query(\"What is the Number of shares non-vested at 31 December 2022?\")\n",
        "print(response)"
      ],
      "metadata": {
        "colab": {
          "base_uri": "https://localhost:8080/"
        },
        "id": "bFD4N_f_PxCx",
        "outputId": "b23326a9-de91-40e3-cad6-35dc1f8a9247"
      },
      "execution_count": null,
      "outputs": [
        {
          "output_type": "stream",
          "name": "stdout",
          "text": [
            "\n",
            "3,915,694\n"
          ]
        }
      ]
    },
    {
      "cell_type": "code",
      "source": [
        "query_engine = index.as_query_engine()\n",
        "response = query_engine.query(\"List the Adevinta’s shareholders and their percent of shares outstanding\")\n",
        "print(response)"
      ],
      "metadata": {
        "colab": {
          "base_uri": "https://localhost:8080/"
        },
        "id": "FHamzehsQPJR",
        "outputId": "e1df9a49-4db4-4196-fd83-b9bd0c36cbde"
      },
      "execution_count": null,
      "outputs": [
        {
          "output_type": "stream",
          "name": "stdout",
          "text": [
            "\n",
            "Rank Name % of shares outstanding \n",
            "1 eBay Inc.* 33.0% \n",
            "2 Schibsted ASA 28.1% \n",
            "3 Astinlux Finco S.à r.l. 11.2% \n",
            "4 Danske Bank A/S 3.0% \n",
            "5 Baillie Gifford & Co. 2.8% \n",
            "6 Folketrygdfondet 2.1% \n",
            "7 Blommenholm Industrier AS 1.4% \n",
            "8 Capital World Investors 1.0% \n",
            "9 Vor Capital LLP. 0.9% \n",
            "10 The Vanguard Group, Inc. 0.8% \n",
            "11 DNB Asset Management AS 0.7% \n",
            "12 Premier Miton Investors 0.7% \n",
            "13 BlackRock Institutional Trust Company, N.A. 0.7% \n",
            "14 KLP Fondsforvaltning AS 0.5% \n",
            "15 Eminence Capital, LP 0.5% \n",
            "16 Fidelity Management & Research Company LLC 0.5% \n",
            "17 Alecta pensionsförsäkring, ömsesidigt 0.5% \n",
            "18 Storebrand Kapitalforval\n"
          ]
        }
      ]
    },
    {
      "cell_type": "markdown",
      "source": [
        "## Ejemplo de error..."
      ],
      "metadata": {
        "id": "pRpDLiVGV8Ny"
      }
    },
    {
      "cell_type": "code",
      "source": [
        "query_engine = index.as_query_engine()\n",
        "response = query_engine.query(\"List the names of Adevinta ASA’s Board of Directors and the number of their shares held in Adevinta\")\n",
        "print(response)"
      ],
      "metadata": {
        "colab": {
          "base_uri": "https://localhost:8080/"
        },
        "id": "jbP-IPljPd5g",
        "outputId": "f1b43a2e-3366-4567-e820-61e7fedcb96d"
      },
      "execution_count": null,
      "outputs": [
        {
          "output_type": "stream",
          "name": "stdout",
          "text": [
            "\n",
            "Adevinta ASA does not list the names of its Board of Directors or the number of shares held in Adevinta. This information is not provided in the context information.\n"
          ]
        }
      ]
    },
    {
      "cell_type": "code",
      "source": [
        "query_engine = index.as_query_engine()\n",
        "response = query_engine.query(\"How many Tonnes of carbon emissions were potentially saved arising from the transactions on our platforms\")\n",
        "print(response)\n"
      ],
      "metadata": {
        "colab": {
          "base_uri": "https://localhost:8080/"
        },
        "id": "mGLSlWdYWqgB",
        "outputId": "25f0f061-511d-45bc-d8e9-8c0c1be8249a"
      },
      "execution_count": null,
      "outputs": [
        {
          "output_type": "stream",
          "name": "stdout",
          "text": [
            "\n",
            "The exact amount of carbon emissions saved arising from the transactions on our platforms cannot be determined from the given context information. However, according to the information, users from our eight participating Adevinta sites contributed to potential savings in greenhouse gas emissions and the use of materials associated with choosing second-hand goods over new goods. Additionally, the Myanmar Stoves Campaign distributed 49,000 stoves to around 225,000 beneficiaries, which reduced wood consumption by 50%, indoor air pollution by 80%, and carbon emissions by 60% per stove.\n"
          ]
        }
      ]
    },
    {
      "cell_type": "code",
      "source": [
        "#import logging\n",
        "#import sys\n",
        "\n",
        "#logging.basicConfig(stream=sys.stdout, level=logging.DEBUG)\n",
        "#logger = logging.getLogger('LOGGER_NAME')\n",
        "\n",
        "query_engine = index.as_query_engine()\n",
        "response = query_engine.query(\"How many tonnes of carbon emissions were potentially saved as a result of the transactions conducted on our platforms?\")\n",
        "print(response)"
      ],
      "metadata": {
        "colab": {
          "base_uri": "https://localhost:8080/"
        },
        "id": "8sgyLhrSYG-t",
        "outputId": "b5f557c0-956d-4c09-9839-634ebd262e43"
      },
      "execution_count": null,
      "outputs": [
        {
          "output_type": "stream",
          "name": "stdout",
          "text": [
            "\n",
            "It is not possible to answer this question without further information. The context information provided does not include any data on the number of transactions conducted on our platforms or the amount of carbon emissions potentially saved as a result of these transactions.\n"
          ]
        }
      ]
    },
    {
      "cell_type": "markdown",
      "source": [
        "\n",
        "# Consultamos a ChatGPT sobre nuestro documento Adevinta-Q4-2022-Quarterly-report.pdf\n"
      ],
      "metadata": {
        "id": "acfpWliJQjJu"
      }
    },
    {
      "cell_type": "code",
      "source": [
        "query_engine = index.as_query_engine()\n",
        "response = query_engine.query(\"What is the adjusted net cash flow from operating activities?\")\n",
        "print(response)"
      ],
      "metadata": {
        "colab": {
          "base_uri": "https://localhost:8080/"
        },
        "id": "4_I6HrIipf99",
        "outputId": "28f051c8-5d7b-4180-cbd8-c0ab9eaf37e0"
      },
      "execution_count": null,
      "outputs": [
        {
          "output_type": "stream",
          "name": "stdout",
          "text": [
            "\n",
            "The adjusted net cash flow from operating activities is 114 million Euros for the fourth quarter of 2022 and 437 million Euros for the year 2022.\n"
          ]
        }
      ]
    },
    {
      "cell_type": "code",
      "source": [
        "query_engine = index.as_query_engine()\n",
        "response = query_engine.query(\"write an analisys of the adjusted net cash flow from operating activities?\")\n",
        "print(response)"
      ],
      "metadata": {
        "colab": {
          "base_uri": "https://localhost:8080/"
        },
        "id": "ZaDiC6jqwGLf",
        "outputId": "480180f0-686b-4c99-99a0-9ca8011a3f39"
      },
      "execution_count": null,
      "outputs": [
        {
          "output_type": "stream",
          "name": "stdout",
          "text": [
            "\n",
            "The adjusted net cash flow from operating activities is a useful indicator of the amount of cash flows generated by operating activities, after income tax. It is calculated by taking EBITDA, plus the decrease or minus the increase in non-cash items (including share-based compensation), change in working capital and provisions related to EBITDA, minus the payment of income tax, minus development and purchase of property, plant and equipment and intangible assets, and minus IFRS 16 lease payments. This measure enables an evaluation of operating performance and provides an indicator of the overall strength of the company. \n",
            "\n",
            "In the fourth quarter of 2022, the adjusted net cash flow from operating activities was €114 million, compared to €72 million in the fourth quarter of 2021. This increase of €42 million was mainly driven by an increase in EBITDA of €21 million, a decrease in non-cash items of €2 million, and a decrease in the payment of income tax of €21 million. For the full year 2022, the adjusted net cash flow from operating activities was €437 million, compared to €240 million in 2021. This increase of €197 million was mainly driven by an increase in EBITDA of €192 million, a decrease in non-cash items of €\n"
          ]
        }
      ]
    },
    {
      "cell_type": "code",
      "source": [
        "query_engine = index.as_query_engine()\n",
        "response = query_engine.query(\"Taken into account all the information of Adevinta-Q4-2022-Quarterly-report.pdf, is Adevinta a good company to invest in?\")\n",
        "print(response)"
      ],
      "metadata": {
        "colab": {
          "base_uri": "https://localhost:8080/"
        },
        "id": "BvN1G00LxtWd",
        "outputId": "66015d83-61c3-45c7-9c9d-c410bfa3b735"
      },
      "execution_count": null,
      "outputs": [
        {
          "output_type": "stream",
          "name": "stdout",
          "text": [
            "\n",
            "It is difficult to answer this question without prior knowledge of Adevinta's financial performance and other factors that may influence the decision to invest in the company. However, based on the information provided in the quarterly report, Adevinta appears to have a strong focus on cost optimization and financial discipline, as well as a product roadmap that is aligned with its strategic ambitions. Additionally, the company has reported a 2-point increase in EBITDA margin in the fourth quarter, and has generated strong cash flow, allowing it to further repay debt and mitigate some of the impact of rising interest rates. These factors may indicate that Adevinta is a good company to invest in.\n"
          ]
        }
      ]
    },
    {
      "cell_type": "code",
      "source": [],
      "metadata": {
        "id": "FtooXfzryIhc"
      },
      "execution_count": null,
      "outputs": []
    }
  ]
}